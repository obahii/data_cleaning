{
 "cells": [
  {
   "cell_type": "code",
   "execution_count": 1,
   "metadata": {},
   "outputs": [],
   "source": [
    "import pandas as pd\n",
    "import numpy as np\n",
    "from datetime import datetime\n",
    "import re\n",
    "import logging"
   ]
  },
  {
   "cell_type": "code",
   "execution_count": 2,
   "metadata": {},
   "outputs": [],
   "source": [
    "data = pd.read_csv('data.csv')\n"
   ]
  },
  {
   "cell_type": "code",
   "execution_count": 4,
   "metadata": {},
   "outputs": [],
   "source": [
    "logging.basicConfig(\n",
    "    filename='data_cleaning.log',\n",
    "    level=logging.INFO,\n",
    "    format='%(asctime)s:%(levelname)s:%(message)s'\n",
    ")\n",
    "\n",
    "def log_anomalies(anomaly_type, count, details):\n",
    "    \"\"\"Log detected anomalies\"\"\"\n",
    "    logging.info(f'{anomaly_type} - Count: {count}')\n",
    "    logging.info(f'Details: {details}')"
   ]
  },
  {
   "cell_type": "code",
   "execution_count": 5,
   "metadata": {},
   "outputs": [],
   "source": [
    "def check_missing_values(df):\n",
    "    missing_values = df.isnull().sum()\n",
    "    return missing_values"
   ]
  },
  {
   "cell_type": "code",
   "execution_count": null,
   "metadata": {},
   "outputs": [],
   "source": [
    "def is_valid_name(value):\n",
    "        if not isinstance(value, str):\n",
    "            return False\n",
    "        for char in value:\n",
    "            if not (char.isalpha() or char in [' ', '-']):\n",
    "                return False\n",
    "        return True\n",
    "def is_valid_date(value):\n",
    "    try:\n",
    "        pd.to_datetime(value, format='%Y-%m-%d', errors='raise')\n",
    "        return True\n",
    "    except (ValueError, TypeError):\n",
    "        return False\n",
    "\n",
    "        \n",
    "def is_valid_cin(value):\n",
    "    if not isinstance(value, str):\n",
    "        return False\n",
    "    pattern = re.compile(r'^[A-Za-z]{1,2}\\d{3,}$')\n",
    "    return bool(pattern.match(value))\n",
    "\n",
    "def is_valid_tel(value) :\n",
    "    if not isinstance(value, str):\n",
    "        return False\n",
    "    pattern = re.compile(r'^\\+2126\\d{8}$')\n",
    "    return bool(pattern.match(value))\n",
    "\n",
    "def is_valid_email(value):\n",
    "    if not isinstance(value, str):\n",
    "        return False\n",
    "    pattern = re.compile(r'^[a-zA-Z0-9._]+@[a-zA-Z]+\\.[a-zA-Z]+$')\n",
    "    return bool(pattern.match(value))\n",
    "\n",
    "def is_valid_diplome(value) :\n",
    "    if not isinstance(value, str):\n",
    "        return False\n",
    "    pattern = re.compile(r'^bac\\+\\d$')\n",
    "    return bool(pattern.match(value)) or value == 'autre'\n",
    "\n",
    "def is_valid_created(value) :\n",
    "    if not isinstance(value, str):\n",
    "        return False\n",
    "    try:\n",
    "        pd.to_datetime(value, format='%Y-%m-%d %H:%M:%S', errors='raise')\n",
    "        return True\n",
    "    except ValueError:\n",
    "        return False\n",
    "\n",
    "def is_single_digit(value):\n",
    "\n",
    "    if not isinstance(value, str):\n",
    "        return False\n",
    "    pattern = re.compile(r'^\\d$')\n",
    "    return bool(pattern.match(value))\n"
   ]
  },
  {
   "cell_type": "code",
   "execution_count": null,
   "metadata": {},
   "outputs": [],
   "source": [
    "def correct_name(value):\n",
    "    if is_valid_name(value):\n",
    "        return value.upper()\n",
    "    else:\n",
    "        return None\n",
    "\n",
    "def correct_date(value):\n",
    "    if is_valid_date(value):\n",
    "        return value\n",
    "    else:\n",
    "        return None\n",
    "        \n",
    "def correct_cin(value):\n",
    "    if is_valid_cin(value):\n",
    "        return value.upper()\n",
    "    else:\n",
    "        return None\n",
    "\n",
    "\n",
    "def correct_tel(value) :\n",
    "    \n",
    "    if is_valid_tel(value):\n",
    "        return value\n",
    "    pattern = re.compile(r'^6\\d{8}$')\n",
    "    if bool(pattern.match(value)) == True:\n",
    "        return '+212'+value\n",
    "    pattern = re.compile(r'^2126\\d{8}$')\n",
    "    if bool(pattern.match(value)) == True:\n",
    "        return '+'+value\n",
    "    return None\n",
    "\n",
    "    \n",
    "\n",
    "def correct_email(value):\n",
    "    value = value.replace(' ', '')\n",
    "    email_domains = [\n",
    "        \"@gmail.com\",\n",
    "        \"@yahoo.com\",\n",
    "        \"@outlook.com\",\n",
    "        \"@hotmail.com\",\n",
    "        \"@icloud.com\",\n",
    "        \"@aol.com\",\n",
    "        \"@protonmail.com\",\n",
    "        \"@zoho.com\",\n",
    "        \"@gmx.com\",\n",
    "        \"@mail.com\",\n",
    "        \"@yandex.com\"\n",
    "    ]\n",
    "    if is_valid_email(value):\n",
    "        return value.lower()\n",
    "    else:\n",
    "        if value :\n",
    "            if '@' in value:\n",
    "                username, partial_domain = email.split(\"@\", 1)\n",
    "                partial_domain = \"@\" + partial_domain\n",
    "                for domain in email_domains:\n",
    "                    if domain.startswith(partial_domain):\n",
    "                        return username + domain\n",
    "            else:\n",
    "                return value + \"@gmail.com\"\n",
    "    return None\n",
    "\n",
    "def correct_diplome(value) :\n",
    "    value = value.replace(' ', '')\n",
    "    if is_valid_diplome(value):\n",
    "        return value\n",
    "    else:\n",
    "        return None\n",
    "\n",
    "def correct_created(value) :\n",
    "\n",
    "\n",
    "def is_single_digit(value):\n",
    "    if not isinstance(value, str):\n",
    "        return False\n",
    "    pattern = re.compile(r'^\\d$')\n",
    "    return bool(pattern.match(value))"
   ]
  },
  {
   "cell_type": "code",
   "execution_count": 7,
   "metadata": {},
   "outputs": [],
   "source": [
    "def check_name_column(df, column_name):\n",
    "\treturn df[column_name].apply(is_valid_name)\n",
    "\n",
    "def check_date_column(df, column_name):\n",
    "    return df[column_name].apply(is_valid_date)\n",
    "\n",
    "def check_cin_column(df, column_name):\n",
    "    return df[column_name].apply(is_valid_cin)\n",
    "\n",
    "def check_tel_column(df, column_name) :\n",
    "    return df[column_name].apply(is_valid_email)\n",
    "\n",
    "def check_email_column(df, column_name) :\n",
    "    return df[column_name].apply(is_valid_email)\n",
    "\n",
    "def check_diplome_column(df, column_name) :\n",
    "    return df[column_name].apply(is_valid_diplome)\n",
    "\n",
    "def check_created_column(df, column_name) :\n",
    "    return df[column_name].apply(is_valid_created)\n",
    "\n",
    "def check_single_digit_column(df, column_name):\n",
    "    return df[column_name].apply(is_single_digit)\n",
    "    "
   ]
  },
  {
   "cell_type": "code",
   "execution_count": 8,
   "metadata": {},
   "outputs": [],
   "source": [
    "columns_to_keep = ['nom','prenom','date_naissance','cin','tel','email','diplome','etablissment','formation','lettre_motivation','etat','viewed','contacte','inscrit','created']\n",
    "data = data[columns_to_keep]"
   ]
  },
  {
   "cell_type": "code",
   "execution_count": null,
   "metadata": {},
   "outputs": [],
   "source": [
    "data"
   ]
  },
  {
   "cell_type": "code",
   "execution_count": 29,
   "metadata": {},
   "outputs": [
    {
     "name": "stdout",
     "output_type": "stream",
     "text": [
      "0      True\n",
      "1      True\n",
      "2      True\n",
      "3      True\n",
      "4      True\n",
      "       ... \n",
      "142    True\n",
      "143    True\n",
      "144    True\n",
      "145    True\n",
      "146    True\n",
      "Name: created, Length: 147, dtype: bool\n"
     ]
    }
   ],
   "source": [
    "print(check_created_column(data, 'created'))"
   ]
  },
  {
   "cell_type": "code",
   "execution_count": null,
   "metadata": {},
   "outputs": [],
   "source": []
  },
  {
   "cell_type": "code",
   "execution_count": null,
   "metadata": {},
   "outputs": [],
   "source": [
    "def get_data(data):\n",
    "\tdata = data.dropna()\n",
    "\tdata = data.drop_duplicates()\n",
    "\tdata = data.reset_index(drop=True)\n",
    "\treturn data"
   ]
  }
 ],
 "metadata": {
  "kernelspec": {
   "display_name": ".venv",
   "language": "python",
   "name": "python3"
  },
  "language_info": {
   "codemirror_mode": {
    "name": "ipython",
    "version": 3
   },
   "file_extension": ".py",
   "mimetype": "text/x-python",
   "name": "python",
   "nbconvert_exporter": "python",
   "pygments_lexer": "ipython3",
   "version": "3.12.3"
  }
 },
 "nbformat": 4,
 "nbformat_minor": 2
}
